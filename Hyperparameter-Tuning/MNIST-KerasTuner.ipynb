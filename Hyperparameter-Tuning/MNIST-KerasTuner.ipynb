{
 "cells": [
  {
   "cell_type": "markdown",
   "id": "3702fa95-0e1b-4051-abbb-2eeb70b96972",
   "metadata": {},
   "source": [
    "# Hyperparameter Tuning with Keras Tuner"
   ]
  },
  {
   "cell_type": "code",
   "execution_count": 8,
   "id": "0e734999-6b57-4f03-9df8-843a81d2e0c5",
   "metadata": {},
   "outputs": [
    {
     "name": "stdout",
     "output_type": "stream",
     "text": [
      "Collecting scikit-learn\n",
      "  Downloading scikit_learn-1.6.1-cp312-cp312-manylinux_2_17_x86_64.manylinux2014_x86_64.whl.metadata (18 kB)\n",
      "Requirement already satisfied: numpy>=1.19.5 in /opt/conda/lib/python3.12/site-packages (from scikit-learn) (1.26.4)\n",
      "Collecting scipy>=1.6.0 (from scikit-learn)\n",
      "  Downloading scipy-1.15.3-cp312-cp312-manylinux_2_17_x86_64.manylinux2014_x86_64.whl.metadata (61 kB)\n",
      "Collecting joblib>=1.2.0 (from scikit-learn)\n",
      "  Downloading joblib-1.5.1-py3-none-any.whl.metadata (5.6 kB)\n",
      "Collecting threadpoolctl>=3.1.0 (from scikit-learn)\n",
      "  Downloading threadpoolctl-3.6.0-py3-none-any.whl.metadata (13 kB)\n",
      "Downloading scikit_learn-1.6.1-cp312-cp312-manylinux_2_17_x86_64.manylinux2014_x86_64.whl (13.1 MB)\n",
      "\u001b[2K   \u001b[90m━━━━━━━━━━━━━━━━━━━━━━━━━━━━━━━━━━━━━━━━\u001b[0m \u001b[32m13.1/13.1 MB\u001b[0m \u001b[31m132.8 MB/s\u001b[0m eta \u001b[36m0:00:00\u001b[0m\n",
      "\u001b[?25hDownloading joblib-1.5.1-py3-none-any.whl (307 kB)\n",
      "Downloading scipy-1.15.3-cp312-cp312-manylinux_2_17_x86_64.manylinux2014_x86_64.whl (37.3 MB)\n",
      "\u001b[2K   \u001b[90m━━━━━━━━━━━━━━━━━━━━━━━━━━━━━━━━━━━━━━━━\u001b[0m \u001b[32m37.3/37.3 MB\u001b[0m \u001b[31m159.1 MB/s\u001b[0m eta \u001b[36m0:00:00\u001b[0m00:01\u001b[0m\n",
      "\u001b[?25hDownloading threadpoolctl-3.6.0-py3-none-any.whl (18 kB)\n",
      "Installing collected packages: threadpoolctl, scipy, joblib, scikit-learn\n",
      "Successfully installed joblib-1.5.1 scikit-learn-1.6.1 scipy-1.15.3 threadpoolctl-3.6.0\n"
     ]
    }
   ],
   "source": [
    "!pip install scikit-learn"
   ]
  },
  {
   "cell_type": "code",
   "execution_count": 4,
   "id": "df9b200b-cc11-4f97-b534-fb3982b73508",
   "metadata": {},
   "outputs": [],
   "source": [
    "!pip install tensorflow==2.16.2\n",
    "!pip install keras-tuner==1.4.7\n",
    "!pip install numpy<2.0.0"
   ]
  },
  {
   "cell_type": "code",
   "execution_count": 2,
   "id": "1b75b85c-74f2-46d2-b34a-67bd00a986ec",
   "metadata": {},
   "outputs": [],
   "source": [
    "import sys\n",
    "sys.setrecursionlimit(100000)"
   ]
  },
  {
   "cell_type": "code",
   "execution_count": 3,
   "id": "f16772f7-69a7-482e-8217-4476354d8d47",
   "metadata": {},
   "outputs": [
    {
     "name": "stderr",
     "output_type": "stream",
     "text": [
      "2025-05-23 17:15:51.165813: I tensorflow/core/util/port.cc:113] oneDNN custom operations are on. You may see slightly different numerical results due to floating-point round-off errors from different computation orders. To turn them off, set the environment variable `TF_ENABLE_ONEDNN_OPTS=0`.\n",
      "2025-05-23 17:15:51.167382: I external/local_tsl/tsl/cuda/cudart_stub.cc:32] Could not find cuda drivers on your machine, GPU will not be used.\n",
      "2025-05-23 17:15:51.172605: I external/local_tsl/tsl/cuda/cudart_stub.cc:32] Could not find cuda drivers on your machine, GPU will not be used.\n",
      "2025-05-23 17:15:51.186220: E external/local_xla/xla/stream_executor/cuda/cuda_fft.cc:479] Unable to register cuFFT factory: Attempting to register factory for plugin cuFFT when one has already been registered\n",
      "2025-05-23 17:15:51.214892: E external/local_xla/xla/stream_executor/cuda/cuda_dnn.cc:10575] Unable to register cuDNN factory: Attempting to register factory for plugin cuDNN when one has already been registered\n",
      "2025-05-23 17:15:51.214961: E external/local_xla/xla/stream_executor/cuda/cuda_blas.cc:1442] Unable to register cuBLAS factory: Attempting to register factory for plugin cuBLAS when one has already been registered\n",
      "2025-05-23 17:15:51.237686: I tensorflow/core/platform/cpu_feature_guard.cc:210] This TensorFlow binary is optimized to use available CPU instructions in performance-critical operations.\n",
      "To enable the following instructions: AVX2 AVX512F AVX512_VNNI FMA, in other operations, rebuild TensorFlow with the appropriate compiler flags.\n",
      "2025-05-23 17:15:52.958294: W tensorflow/compiler/tf2tensorrt/utils/py_utils.cc:38] TF-TRT Warning: Could not find TensorRT\n"
     ]
    }
   ],
   "source": [
    "import keras_tuner as kt\n",
    "from tensorflow.keras.models import Sequential\n",
    "from tensorflow.keras.layers import Dense, Flatten\n",
    "from tensorflow.keras.datasets import mnist\n",
    "from tensorflow.keras.optimizers import Adam\n",
    "import os\n",
    "import warnings\n",
    "\n",
    "warnings.filterwarnings('ignore')\n",
    "\n",
    "os.environ['TF_CPP_MIN_LOG_LEVEL'] = '2'  # 0 = all logs, 1 = filter out INFO, 2 = filter out INFO and WARNING, 3 = ERROR only\n",
    "\n",
    "from tensorflow import keras\n",
    "from sklearn.model_selection import train_test_split"
   ]
  },
  {
   "cell_type": "markdown",
   "id": "aea29b2d-a39f-4df3-be55-8e37478d5006",
   "metadata": {},
   "source": [
    "## Load Dataset"
   ]
  },
  {
   "cell_type": "code",
   "execution_count": 4,
   "id": "2dbabbe7-ff56-4d94-9a22-db9256b6b343",
   "metadata": {},
   "outputs": [],
   "source": [
    "(x_all, y_all), _ = keras.datasets.mnist.load_data()\n",
    "x_all = x_all.astype(\"float32\") / 255.0\n",
    "x_temp, x_test, y_temp, y_test = train_test_split(x_all, y_all, test_size=0.2, random_state=42)\n",
    "x_train, x_val, y_train, y_val = train_test_split(x_temp, y_temp, test_size=0.25, random_state=42)"
   ]
  },
  {
   "cell_type": "code",
   "execution_count": 5,
   "id": "b3225bbf-b546-4d48-8331-c121a6f25c7d",
   "metadata": {},
   "outputs": [
    {
     "name": "stdout",
     "output_type": "stream",
     "text": [
      "Training data shape: (36000, 28, 28)\n",
      "Validation data shape: (12000, 28, 28)\n"
     ]
    }
   ],
   "source": [
    "print(f'Training data shape: {x_train.shape}')\n",
    "print(f'Validation data shape: {x_val.shape}')"
   ]
  },
  {
   "cell_type": "markdown",
   "id": "7e84c65b-667a-4718-b949-9982c169cc41",
   "metadata": {},
   "source": [
    "## Defining the model with hyperparameters"
   ]
  },
  {
   "cell_type": "code",
   "execution_count": 6,
   "id": "8391ca32-8d15-4698-aa11-be87d5a5266f",
   "metadata": {},
   "outputs": [],
   "source": [
    "def build_model(hp):\n",
    "    model = Sequential([\n",
    "        Flatten(input_shape=(28, 28)),\n",
    "        Dense(units=hp.Int('units', min_value=32, max_value=512, step=32), activation='relu'),\n",
    "        Dense(10, activation='softmax')])\n",
    "    model.compile(\n",
    "        optimizer=Adam(learning_rate=hp.Float('learning_rate', min_value=1e-4, max_value=1e-2, sampling='LOG')),\n",
    "        loss='sparse_categorical_crossentropy',\n",
    "        metrics=['accuracy'])\n",
    "    return model"
   ]
  },
  {
   "cell_type": "markdown",
   "id": "0cc61a8b-6e02-4720-b6e3-f8fd43e02e72",
   "metadata": {},
   "source": [
    "## Configuring the hyperparameter search"
   ]
  },
  {
   "cell_type": "code",
   "execution_count": 7,
   "id": "319dfc83-54ee-45f0-84a6-c4273e03f804",
   "metadata": {},
   "outputs": [
    {
     "name": "stdout",
     "output_type": "stream",
     "text": [
      "Search space summary\n",
      "Default search space size: 2\n",
      "units (Int)\n",
      "{'default': None, 'conditions': [], 'min_value': 32, 'max_value': 512, 'step': 32, 'sampling': 'linear'}\n",
      "learning_rate (Float)\n",
      "{'default': 0.0001, 'conditions': [], 'min_value': 0.0001, 'max_value': 0.01, 'step': None, 'sampling': 'log'}\n"
     ]
    }
   ],
   "source": [
    "tuner = kt.RandomSearch(build_model,\n",
    "                        objective='val_accuracy',\n",
    "                        max_trials=10,\n",
    "                        executions_per_trial=2,\n",
    "                        directory='my_dir',\n",
    "                        project_name='intro_to_kt2')\n",
    "\n",
    "tuner.search_space_summary()"
   ]
  },
  {
   "cell_type": "markdown",
   "id": "bde7d7c9-0194-4495-b51a-eea77d52334b",
   "metadata": {},
   "source": [
    "## Running the hyperparameter search"
   ]
  },
  {
   "cell_type": "code",
   "execution_count": 8,
   "id": "899da0df-a376-42c8-a2f1-12f6228f6b41",
   "metadata": {},
   "outputs": [
    {
     "name": "stdout",
     "output_type": "stream",
     "text": [
      "Train shape: (36000, 28, 28)\n",
      "Val shape: (12000, 28, 28)\n"
     ]
    }
   ],
   "source": [
    "print(\"Train shape:\", x_train.shape)  # (8000, 28, 28)\n",
    "print(\"Val shape:\", x_val.shape)      # (2000, 28, 28)\n"
   ]
  },
  {
   "cell_type": "code",
   "execution_count": 9,
   "id": "846a2309-3790-463e-adc1-b9f5f93598dd",
   "metadata": {},
   "outputs": [],
   "source": [
    "import shutil\n",
    "shutil.rmtree(\"my_dir/intro_to_kt2\", ignore_errors=True)"
   ]
  },
  {
   "cell_type": "code",
   "execution_count": 10,
   "id": "0549aa0b-c121-4c19-ba44-9d3c52fe8f37",
   "metadata": {},
   "outputs": [
    {
     "name": "stdout",
     "output_type": "stream",
     "text": [
      "Trial 10 Complete [00h 02m 39s]\n",
      "val_accuracy: 0.9752083420753479\n",
      "\n",
      "Best val_accuracy So Far: 0.9752083420753479\n",
      "Total elapsed time: 00h 19m 52s\n",
      "Results summary\n",
      "Results in my_dir/intro_to_kt2\n",
      "Showing 10 best trials\n",
      "Objective(name=\"val_accuracy\", direction=\"max\")\n",
      "\n",
      "Trial 09 summary\n",
      "Hyperparameters:\n",
      "units: 320\n",
      "learning_rate: 0.0012776503660968082\n",
      "Score: 0.9752083420753479\n",
      "\n",
      "Trial 06 summary\n",
      "Hyperparameters:\n",
      "units: 384\n",
      "learning_rate: 0.000859445039264591\n",
      "Score: 0.9743333458900452\n",
      "\n",
      "Trial 05 summary\n",
      "Hyperparameters:\n",
      "units: 384\n",
      "learning_rate: 0.003806871387360406\n",
      "Score: 0.9723333120346069\n",
      "\n",
      "Trial 04 summary\n",
      "Hyperparameters:\n",
      "units: 128\n",
      "learning_rate: 0.0016740809594745873\n",
      "Score: 0.971708357334137\n",
      "\n",
      "Trial 07 summary\n",
      "Hyperparameters:\n",
      "units: 192\n",
      "learning_rate: 0.0029297658365897957\n",
      "Score: 0.9703333377838135\n",
      "\n",
      "Trial 00 summary\n",
      "Hyperparameters:\n",
      "units: 192\n",
      "learning_rate: 0.0034647745720185136\n",
      "Score: 0.968583345413208\n",
      "\n",
      "Trial 01 summary\n",
      "Hyperparameters:\n",
      "units: 64\n",
      "learning_rate: 0.002605398610948284\n",
      "Score: 0.9665416777133942\n",
      "\n",
      "Trial 03 summary\n",
      "Hyperparameters:\n",
      "units: 32\n",
      "learning_rate: 0.0021299645722954045\n",
      "Score: 0.9581249952316284\n",
      "\n",
      "Trial 08 summary\n",
      "Hyperparameters:\n",
      "units: 160\n",
      "learning_rate: 0.0001889097124100821\n",
      "Score: 0.9535000026226044\n",
      "\n",
      "Trial 02 summary\n",
      "Hyperparameters:\n",
      "units: 96\n",
      "learning_rate: 0.0001316579206144295\n",
      "Score: 0.9401666522026062\n"
     ]
    }
   ],
   "source": [
    "x_train = x_train.reshape(-1, 28, 28)\n",
    "x_val = x_val.reshape(-1, 28, 28)\n",
    "\n",
    "tuner.search(x_train, y_train, epochs=5, validation_data=(x_val, y_val)) \n",
    "tuner.results_summary() "
   ]
  },
  {
   "cell_type": "markdown",
   "id": "d4ae9b32-c303-4975-aa98-78f916d3e660",
   "metadata": {},
   "source": [
    "## Analyzing and using the best hyperparameters"
   ]
  },
  {
   "cell_type": "code",
   "execution_count": 11,
   "id": "ad7732bc-6a4b-4b8d-a2b1-2e693ca21225",
   "metadata": {},
   "outputs": [
    {
     "name": "stdout",
     "output_type": "stream",
     "text": [
      " \n",
      "\n",
      "The optimal number of units in the first dense layer is 320. \n",
      "\n",
      "The optimal learning rate for the optimizer is 0.0012776503660968082. \n",
      "\n",
      "\n",
      "Epoch 1/10\n",
      "\u001b[1m900/900\u001b[0m \u001b[32m━━━━━━━━━━━━━━━━━━━━\u001b[0m\u001b[37m\u001b[0m \u001b[1m13s\u001b[0m 14ms/step - accuracy: 0.8602 - loss: 0.4686 - val_accuracy: 0.9471 - val_loss: 0.1769\n",
      "Epoch 2/10\n",
      "\u001b[1m900/900\u001b[0m \u001b[32m━━━━━━━━━━━━━━━━━━━━\u001b[0m\u001b[37m\u001b[0m \u001b[1m13s\u001b[0m 14ms/step - accuracy: 0.9616 - loss: 0.1249 - val_accuracy: 0.9568 - val_loss: 0.1374\n",
      "Epoch 3/10\n",
      "\u001b[1m900/900\u001b[0m \u001b[32m━━━━━━━━━━━━━━━━━━━━\u001b[0m\u001b[37m\u001b[0m \u001b[1m13s\u001b[0m 14ms/step - accuracy: 0.9763 - loss: 0.0792 - val_accuracy: 0.9593 - val_loss: 0.1244\n",
      "Epoch 4/10\n",
      "\u001b[1m900/900\u001b[0m \u001b[32m━━━━━━━━━━━━━━━━━━━━\u001b[0m\u001b[37m\u001b[0m \u001b[1m13s\u001b[0m 15ms/step - accuracy: 0.9858 - loss: 0.0477 - val_accuracy: 0.9633 - val_loss: 0.1276\n",
      "Epoch 5/10\n",
      "\u001b[1m900/900\u001b[0m \u001b[32m━━━━━━━━━━━━━━━━━━━━\u001b[0m\u001b[37m\u001b[0m \u001b[1m14s\u001b[0m 16ms/step - accuracy: 0.9894 - loss: 0.0360 - val_accuracy: 0.9690 - val_loss: 0.1092\n",
      "Epoch 6/10\n",
      "\u001b[1m900/900\u001b[0m \u001b[32m━━━━━━━━━━━━━━━━━━━━\u001b[0m\u001b[37m\u001b[0m \u001b[1m13s\u001b[0m 15ms/step - accuracy: 0.9933 - loss: 0.0243 - val_accuracy: 0.9657 - val_loss: 0.1263\n",
      "Epoch 7/10\n",
      "\u001b[1m900/900\u001b[0m \u001b[32m━━━━━━━━━━━━━━━━━━━━\u001b[0m\u001b[37m\u001b[0m \u001b[1m12s\u001b[0m 14ms/step - accuracy: 0.9947 - loss: 0.0179 - val_accuracy: 0.9669 - val_loss: 0.1274\n",
      "Epoch 8/10\n",
      "\u001b[1m900/900\u001b[0m \u001b[32m━━━━━━━━━━━━━━━━━━━━\u001b[0m\u001b[37m\u001b[0m \u001b[1m13s\u001b[0m 14ms/step - accuracy: 0.9952 - loss: 0.0158 - val_accuracy: 0.9624 - val_loss: 0.1474\n",
      "Epoch 9/10\n",
      "\u001b[1m900/900\u001b[0m \u001b[32m━━━━━━━━━━━━━━━━━━━━\u001b[0m\u001b[37m\u001b[0m \u001b[1m12s\u001b[0m 14ms/step - accuracy: 0.9957 - loss: 0.0133 - val_accuracy: 0.9699 - val_loss: 0.1264\n",
      "Epoch 10/10\n",
      "\u001b[1m900/900\u001b[0m \u001b[32m━━━━━━━━━━━━━━━━━━━━\u001b[0m\u001b[37m\u001b[0m \u001b[1m12s\u001b[0m 13ms/step - accuracy: 0.9961 - loss: 0.0122 - val_accuracy: 0.9722 - val_loss: 0.1178\n",
      "\u001b[1m375/375\u001b[0m \u001b[32m━━━━━━━━━━━━━━━━━━━━\u001b[0m\u001b[37m\u001b[0m \u001b[1m1s\u001b[0m 3ms/step - accuracy: 0.9763 - loss: 0.0921\n",
      "Test accuracy: 0.9746666550636292\n"
     ]
    }
   ],
   "source": [
    "best_hps = tuner.get_best_hyperparameters(num_trials=1)[0] \n",
    "print(f\"\"\" \n",
    "\n",
    "The optimal number of units in the first dense layer is {best_hps.get('units')}. \n",
    "\n",
    "The optimal learning rate for the optimizer is {best_hps.get('learning_rate')}. \n",
    "\n",
    "\"\"\") \n",
    "\n",
    "model = tuner.hypermodel.build(best_hps) \n",
    "model.fit(x_train, y_train, epochs=10, validation_split=0.2) \n",
    "\n",
    "test_loss, test_acc = model.evaluate(x_val, y_val) \n",
    "print(f'Test accuracy: {test_acc}') "
   ]
  },
  {
   "cell_type": "code",
   "execution_count": null,
   "id": "a04c3dd0-89ee-466b-a5b5-318967c76c76",
   "metadata": {},
   "outputs": [],
   "source": []
  }
 ],
 "metadata": {
  "kernelspec": {
   "display_name": "Python 3 (ipykernel)",
   "language": "python",
   "name": "python3"
  },
  "language_info": {
   "codemirror_mode": {
    "name": "ipython",
    "version": 3
   },
   "file_extension": ".py",
   "mimetype": "text/x-python",
   "name": "python",
   "nbconvert_exporter": "python",
   "pygments_lexer": "ipython3",
   "version": "3.12.8"
  }
 },
 "nbformat": 4,
 "nbformat_minor": 5
}