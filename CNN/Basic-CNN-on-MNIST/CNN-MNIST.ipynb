{
 "cells": [
  {
   "cell_type": "code",
   "execution_count": 1,
   "id": "2be977a3-bcb3-4417-bfe4-dc895aa37f3c",
   "metadata": {
    "tags": []
   },
   "outputs": [],
   "source": [
    "# !pip install numpy==2.0.2\n",
    "# !pip install pandas==2.2.2\n",
    "# !pip install tensorflow_cpu==2.18.0\n",
    "# !pip install matplotlib==3.9.2"
   ]
  },
  {
   "cell_type": "code",
   "execution_count": 6,
   "id": "efc4f07e-a943-414b-bd54-2412b9599d7a",
   "metadata": {},
   "outputs": [],
   "source": [
    "import os\n",
    "os.environ['TF_ENABLE_ONEDNN_OPTS'] = '0'\n",
    "os.environ['TF_CPP_MIN_LOG_LEVEL'] = '2'"
   ]
  },
  {
   "cell_type": "code",
   "execution_count": 7,
   "id": "ce469e96-6bd7-43a0-94b5-29a04379958d",
   "metadata": {},
   "outputs": [],
   "source": [
    "import keras\n",
    "from keras.models import Sequential\n",
    "from keras.layers import Dense\n",
    "from keras.layers import Input\n",
    "from keras.utils import to_categorical\n",
    "from keras.layers import Conv2D\n",
    "from keras.layers import MaxPooling2D\n",
    "from keras.layers import Flatten"
   ]
  },
  {
   "cell_type": "code",
   "execution_count": 8,
   "id": "d56c5971-9da1-4bc6-8122-91fc20cc232f",
   "metadata": {},
   "outputs": [
    {
     "name": "stdout",
     "output_type": "stream",
     "text": [
      "Downloading data from https://storage.googleapis.com/tensorflow/tf-keras-datasets/mnist.npz\n",
      "\u001b[1m11490434/11490434\u001b[0m \u001b[32m━━━━━━━━━━━━━━━━━━━━\u001b[0m\u001b[37m\u001b[0m \u001b[1m0s\u001b[0m 0us/step\n"
     ]
    }
   ],
   "source": [
    "from keras.datasets import mnist\n",
    "(X_train, y_train), (X_test, y_test) = mnist.load_data()\n",
    "\n",
    "X_train = X_train.reshape(X_train.shape[0], 28, 28, 1).astype('float32')\n",
    "X_test = X_test.reshape(X_test.shape[0], 28, 28, 1).astype('float32')"
   ]
  },
  {
   "cell_type": "code",
   "execution_count": 9,
   "id": "fd3771f3-7a03-42e2-9f06-b8f498373110",
   "metadata": {},
   "outputs": [],
   "source": [
    "X_train = X_train / 255\n",
    "X_test = X_test / 255"
   ]
  },
  {
   "cell_type": "code",
   "execution_count": 10,
   "id": "9f1f142e-ff99-473d-b98b-8fb0ca9b4ed9",
   "metadata": {},
   "outputs": [],
   "source": [
    "y_train = to_categorical(y_train)\n",
    "y_test = to_categorical(y_test)\n",
    "\n",
    "num_classes = y_test.shape[1]"
   ]
  },
  {
   "cell_type": "code",
   "execution_count": 11,
   "id": "ff3308ca-8c18-4f27-8a13-c04cc80b8bc8",
   "metadata": {},
   "outputs": [],
   "source": [
    "def convolutional_model():\n",
    "    \n",
    "    # create model\n",
    "    model = Sequential()\n",
    "    model.add(Input(shape=(28, 28, 1)))\n",
    "    model.add(Conv2D(16, (5, 5), strides=(1, 1), activation='relu'))\n",
    "    model.add(MaxPooling2D(pool_size=(2, 2), strides=(2, 2)))\n",
    "    \n",
    "    model.add(Flatten())\n",
    "    model.add(Dense(100, activation='relu'))\n",
    "    model.add(Dense(num_classes, activation='softmax'))\n",
    "    \n",
    "    # compile model\n",
    "    model.compile(optimizer='adam', loss='categorical_crossentropy',  metrics=['accuracy'])\n",
    "    return model"
   ]
  },
  {
   "cell_type": "code",
   "execution_count": 12,
   "id": "8ae2cab8-9018-484e-a7b7-6ccc7988f77e",
   "metadata": {},
   "outputs": [
    {
     "name": "stdout",
     "output_type": "stream",
     "text": [
      "Epoch 1/10\n",
      "300/300 - 36s - 121ms/step - accuracy: 0.9172 - loss: 0.2944 - val_accuracy: 0.9639 - val_loss: 0.1160\n",
      "Epoch 2/10\n",
      "300/300 - 34s - 113ms/step - accuracy: 0.9740 - loss: 0.0866 - val_accuracy: 0.9812 - val_loss: 0.0614\n",
      "Epoch 3/10\n",
      "300/300 - 34s - 114ms/step - accuracy: 0.9825 - loss: 0.0587 - val_accuracy: 0.9807 - val_loss: 0.0583\n",
      "Epoch 4/10\n",
      "300/300 - 34s - 114ms/step - accuracy: 0.9858 - loss: 0.0468 - val_accuracy: 0.9874 - val_loss: 0.0408\n",
      "Epoch 5/10\n",
      "300/300 - 34s - 112ms/step - accuracy: 0.9884 - loss: 0.0377 - val_accuracy: 0.9866 - val_loss: 0.0417\n",
      "Epoch 6/10\n",
      "300/300 - 35s - 115ms/step - accuracy: 0.9911 - loss: 0.0306 - val_accuracy: 0.9876 - val_loss: 0.0370\n",
      "Epoch 7/10\n",
      "300/300 - 34s - 113ms/step - accuracy: 0.9918 - loss: 0.0269 - val_accuracy: 0.9870 - val_loss: 0.0397\n",
      "Epoch 8/10\n",
      "300/300 - 34s - 114ms/step - accuracy: 0.9930 - loss: 0.0231 - val_accuracy: 0.9875 - val_loss: 0.0407\n",
      "Epoch 9/10\n",
      "300/300 - 34s - 112ms/step - accuracy: 0.9945 - loss: 0.0181 - val_accuracy: 0.9879 - val_loss: 0.0376\n",
      "Epoch 10/10\n",
      "300/300 - 34s - 113ms/step - accuracy: 0.9958 - loss: 0.0150 - val_accuracy: 0.9884 - val_loss: 0.0360\n",
      "Accuracy: 0.9883999824523926 \n",
      " Error: 1.1600017547607422\n"
     ]
    }
   ],
   "source": [
    "model = convolutional_model()\n",
    "\n",
    "# fit the model\n",
    "model.fit(X_train, y_train, validation_data=(X_test, y_test), epochs=10, batch_size=200, verbose=2)\n",
    "\n",
    "# evaluate the model\n",
    "scores = model.evaluate(X_test, y_test, verbose=0)\n",
    "print(\"Accuracy: {} \\n Error: {}\".format(scores[1], 100-scores[1]*100))"
   ]
  },
  {
   "cell_type": "code",
   "execution_count": 13,
   "id": "8c649b4e-1444-4532-9379-0ee8fce7fd8d",
   "metadata": {},
   "outputs": [],
   "source": [
    "def convolutional_model():\n",
    "    \n",
    "    # create model\n",
    "    model = Sequential()\n",
    "    model.add(Input(shape=(28, 28, 1)))\n",
    "    model.add(Conv2D(16, (5, 5), activation='relu'))\n",
    "    model.add(MaxPooling2D(pool_size=(2, 2), strides=(2, 2)))\n",
    "    \n",
    "    model.add(Conv2D(8, (2, 2), activation='relu'))\n",
    "    model.add(MaxPooling2D(pool_size=(2, 2), strides=(2, 2)))\n",
    "    \n",
    "    model.add(Flatten())\n",
    "    model.add(Dense(100, activation='relu'))\n",
    "    model.add(Dense(num_classes, activation='softmax'))\n",
    "    \n",
    "    # Compile model\n",
    "    model.compile(optimizer='adam', loss='categorical_crossentropy',  metrics=['accuracy'])\n",
    "    return model"
   ]
  },
  {
   "cell_type": "code",
   "execution_count": 14,
   "id": "524e199d-a5f5-4f12-aca4-3168e8b30fd0",
   "metadata": {},
   "outputs": [
    {
     "name": "stdout",
     "output_type": "stream",
     "text": [
      "Epoch 1/10\n",
      "300/300 - 38s - 128ms/step - accuracy: 0.8575 - loss: 0.4811 - val_accuracy: 0.9621 - val_loss: 0.1246\n",
      "Epoch 2/10\n",
      "300/300 - 36s - 120ms/step - accuracy: 0.9656 - loss: 0.1134 - val_accuracy: 0.9756 - val_loss: 0.0740\n",
      "Epoch 3/10\n",
      "300/300 - 37s - 122ms/step - accuracy: 0.9742 - loss: 0.0845 - val_accuracy: 0.9795 - val_loss: 0.0642\n",
      "Epoch 4/10\n",
      "300/300 - 36s - 121ms/step - accuracy: 0.9791 - loss: 0.0696 - val_accuracy: 0.9807 - val_loss: 0.0589\n",
      "Epoch 5/10\n",
      "300/300 - 41s - 137ms/step - accuracy: 0.9815 - loss: 0.0606 - val_accuracy: 0.9842 - val_loss: 0.0466\n",
      "Epoch 6/10\n",
      "300/300 - 36s - 121ms/step - accuracy: 0.9839 - loss: 0.0529 - val_accuracy: 0.9852 - val_loss: 0.0432\n",
      "Epoch 7/10\n",
      "300/300 - 37s - 122ms/step - accuracy: 0.9858 - loss: 0.0466 - val_accuracy: 0.9862 - val_loss: 0.0413\n",
      "Epoch 8/10\n",
      "300/300 - 36s - 121ms/step - accuracy: 0.9866 - loss: 0.0439 - val_accuracy: 0.9864 - val_loss: 0.0398\n",
      "Epoch 9/10\n",
      "300/300 - 36s - 121ms/step - accuracy: 0.9879 - loss: 0.0385 - val_accuracy: 0.9877 - val_loss: 0.0356\n",
      "Epoch 10/10\n",
      "300/300 - 36s - 119ms/step - accuracy: 0.9888 - loss: 0.0357 - val_accuracy: 0.9872 - val_loss: 0.0367\n",
      "Accuracy: 0.9872000217437744 \n",
      " Error: 1.2799978256225586\n"
     ]
    }
   ],
   "source": [
    "model = convolutional_model()\n",
    "\n",
    "# fit the model\n",
    "model.fit(X_train, y_train, validation_data=(X_test, y_test), epochs=10, batch_size=200, verbose=2)\n",
    "\n",
    "# evaluate the model\n",
    "scores = model.evaluate(X_test, y_test, verbose=0)\n",
    "print(\"Accuracy: {} \\n Error: {}\".format(scores[1], 100-scores[1]*100))"
   ]
  },
  {
   "cell_type": "code",
   "execution_count": 15,
   "id": "89e7c6b3-6667-4f9a-97aa-fb7c9b541160",
   "metadata": {},
   "outputs": [
    {
     "name": "stdout",
     "output_type": "stream",
     "text": [
      "Epoch 1/10\n",
      "59/59 - 35s - 593ms/step - accuracy: 0.9919 - loss: 0.0277 - val_accuracy: 0.9886 - val_loss: 0.0307\n",
      "Epoch 2/10\n",
      "59/59 - 35s - 590ms/step - accuracy: 0.9928 - loss: 0.0252 - val_accuracy: 0.9889 - val_loss: 0.0311\n",
      "Epoch 3/10\n",
      "59/59 - 35s - 585ms/step - accuracy: 0.9930 - loss: 0.0243 - val_accuracy: 0.9900 - val_loss: 0.0290\n",
      "Epoch 4/10\n",
      "59/59 - 34s - 575ms/step - accuracy: 0.9932 - loss: 0.0237 - val_accuracy: 0.9897 - val_loss: 0.0305\n",
      "Epoch 5/10\n",
      "59/59 - 34s - 577ms/step - accuracy: 0.9936 - loss: 0.0232 - val_accuracy: 0.9887 - val_loss: 0.0317\n",
      "Epoch 6/10\n",
      "59/59 - 34s - 568ms/step - accuracy: 0.9938 - loss: 0.0226 - val_accuracy: 0.9893 - val_loss: 0.0311\n",
      "Epoch 7/10\n",
      "59/59 - 35s - 589ms/step - accuracy: 0.9939 - loss: 0.0218 - val_accuracy: 0.9897 - val_loss: 0.0300\n",
      "Epoch 8/10\n",
      "59/59 - 34s - 571ms/step - accuracy: 0.9937 - loss: 0.0215 - val_accuracy: 0.9902 - val_loss: 0.0294\n",
      "Epoch 9/10\n",
      "59/59 - 34s - 576ms/step - accuracy: 0.9941 - loss: 0.0208 - val_accuracy: 0.9895 - val_loss: 0.0317\n",
      "Epoch 10/10\n",
      "59/59 - 34s - 573ms/step - accuracy: 0.9943 - loss: 0.0202 - val_accuracy: 0.9897 - val_loss: 0.0310\n",
      "Accuracy: 0.9897000193595886 \n",
      " Error: 1.0299980640411377\n"
     ]
    }
   ],
   "source": [
    "model.fit(X_train, y_train, validation_data=(X_test, y_test), epochs=10, batch_size=1024, verbose=2)\n",
    "\n",
    "# evaluate the model\n",
    "scores = model.evaluate(X_test, y_test, verbose=0)\n",
    "print(\"Accuracy: {} \\n Error: {}\".format(scores[1], 100-scores[1]*100))"
   ]
  },
  {
   "cell_type": "code",
   "execution_count": 16,
   "id": "7a59d850-c307-400f-b62c-b0e4e5a0521d",
   "metadata": {},
   "outputs": [
    {
     "name": "stdout",
     "output_type": "stream",
     "text": [
      "Epoch 1/25\n",
      "59/59 - 34s - 573ms/step - accuracy: 0.9948 - loss: 0.0195 - val_accuracy: 0.9898 - val_loss: 0.0307\n",
      "Epoch 2/25\n",
      "59/59 - 34s - 580ms/step - accuracy: 0.9945 - loss: 0.0191 - val_accuracy: 0.9898 - val_loss: 0.0316\n",
      "Epoch 3/25\n",
      "59/59 - 34s - 572ms/step - accuracy: 0.9946 - loss: 0.0185 - val_accuracy: 0.9905 - val_loss: 0.0311\n",
      "Epoch 4/25\n",
      "59/59 - 34s - 573ms/step - accuracy: 0.9947 - loss: 0.0182 - val_accuracy: 0.9900 - val_loss: 0.0313\n",
      "Epoch 5/25\n",
      "59/59 - 33s - 566ms/step - accuracy: 0.9949 - loss: 0.0177 - val_accuracy: 0.9897 - val_loss: 0.0313\n",
      "Epoch 6/25\n",
      "59/59 - 34s - 572ms/step - accuracy: 0.9949 - loss: 0.0174 - val_accuracy: 0.9890 - val_loss: 0.0312\n",
      "Epoch 7/25\n",
      "59/59 - 33s - 566ms/step - accuracy: 0.9953 - loss: 0.0166 - val_accuracy: 0.9894 - val_loss: 0.0322\n",
      "Epoch 8/25\n",
      "59/59 - 34s - 570ms/step - accuracy: 0.9955 - loss: 0.0164 - val_accuracy: 0.9903 - val_loss: 0.0312\n",
      "Epoch 9/25\n",
      "59/59 - 34s - 572ms/step - accuracy: 0.9957 - loss: 0.0157 - val_accuracy: 0.9901 - val_loss: 0.0315\n",
      "Epoch 10/25\n",
      "59/59 - 34s - 576ms/step - accuracy: 0.9955 - loss: 0.0158 - val_accuracy: 0.9894 - val_loss: 0.0319\n",
      "Epoch 11/25\n",
      "59/59 - 34s - 569ms/step - accuracy: 0.9955 - loss: 0.0152 - val_accuracy: 0.9891 - val_loss: 0.0331\n",
      "Epoch 12/25\n",
      "59/59 - 34s - 568ms/step - accuracy: 0.9956 - loss: 0.0151 - val_accuracy: 0.9898 - val_loss: 0.0301\n",
      "Epoch 13/25\n",
      "59/59 - 34s - 574ms/step - accuracy: 0.9958 - loss: 0.0144 - val_accuracy: 0.9887 - val_loss: 0.0312\n",
      "Epoch 14/25\n",
      "59/59 - 34s - 570ms/step - accuracy: 0.9962 - loss: 0.0135 - val_accuracy: 0.9898 - val_loss: 0.0312\n",
      "Epoch 15/25\n",
      "59/59 - 33s - 564ms/step - accuracy: 0.9963 - loss: 0.0131 - val_accuracy: 0.9892 - val_loss: 0.0342\n",
      "Epoch 16/25\n",
      "59/59 - 34s - 570ms/step - accuracy: 0.9963 - loss: 0.0133 - val_accuracy: 0.9904 - val_loss: 0.0313\n",
      "Epoch 17/25\n",
      "59/59 - 34s - 575ms/step - accuracy: 0.9962 - loss: 0.0127 - val_accuracy: 0.9894 - val_loss: 0.0322\n",
      "Epoch 18/25\n",
      "59/59 - 34s - 573ms/step - accuracy: 0.9965 - loss: 0.0121 - val_accuracy: 0.9893 - val_loss: 0.0332\n",
      "Epoch 19/25\n",
      "59/59 - 34s - 576ms/step - accuracy: 0.9967 - loss: 0.0118 - val_accuracy: 0.9899 - val_loss: 0.0322\n",
      "Epoch 20/25\n",
      "59/59 - 41s - 701ms/step - accuracy: 0.9969 - loss: 0.0107 - val_accuracy: 0.9901 - val_loss: 0.0330\n",
      "Epoch 21/25\n",
      "59/59 - 34s - 578ms/step - accuracy: 0.9972 - loss: 0.0105 - val_accuracy: 0.9908 - val_loss: 0.0318\n",
      "Epoch 22/25\n",
      "59/59 - 34s - 574ms/step - accuracy: 0.9971 - loss: 0.0106 - val_accuracy: 0.9899 - val_loss: 0.0338\n",
      "Epoch 23/25\n",
      "59/59 - 34s - 575ms/step - accuracy: 0.9970 - loss: 0.0100 - val_accuracy: 0.9901 - val_loss: 0.0342\n",
      "Epoch 24/25\n",
      "59/59 - 34s - 579ms/step - accuracy: 0.9973 - loss: 0.0097 - val_accuracy: 0.9901 - val_loss: 0.0325\n",
      "Epoch 25/25\n",
      "59/59 - 34s - 572ms/step - accuracy: 0.9976 - loss: 0.0093 - val_accuracy: 0.9895 - val_loss: 0.0329\n",
      "Accuracy: 0.9894999861717224 \n",
      " Error: 1.0500013828277588\n"
     ]
    }
   ],
   "source": [
    "model.fit(X_train, y_train, validation_data=(X_test, y_test), epochs=25, batch_size=1024, verbose=2)\n",
    "\n",
    "# evaluate the model\n",
    "scores = model.evaluate(X_test, y_test, verbose=0)\n",
    "print(\"Accuracy: {} \\n Error: {}\".format(scores[1], 100-scores[1]*100))"
   ]
  },
  {
   "cell_type": "code",
   "execution_count": null,
   "id": "995f4fd2-7ba9-4616-8af1-493370b5b7db",
   "metadata": {},
   "outputs": [],
   "source": []
  },
  {
   "cell_type": "code",
   "execution_count": null,
   "id": "2d0bef7f-4786-402b-93d8-e11e5c39e334",
   "metadata": {},
   "outputs": [],
   "source": []
  },
  {
   "cell_type": "code",
   "execution_count": null,
   "id": "257dd5b1-141d-4ebe-b89e-41e21df82b2c",
   "metadata": {},
   "outputs": [],
   "source": []
  }
 ],
 "metadata": {
  "kernelspec": {
   "display_name": "Python",
   "language": "python",
   "name": "conda-env-python-py"
  },
  "language_info": {
   "codemirror_mode": {
    "name": "ipython",
    "version": 3
   },
   "file_extension": ".py",
   "mimetype": "text/x-python",
   "name": "python",
   "nbconvert_exporter": "python",
   "pygments_lexer": "ipython3",
   "version": "3.7.12"
  }
 },
 "nbformat": 4,
 "nbformat_minor": 5
}
